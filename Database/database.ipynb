{
 "cells": [
  {
   "cell_type": "code",
   "execution_count": 44,
   "metadata": {},
   "outputs": [],
   "source": [
    "import psycopg2 as pg\n",
    "\n",
    "conn = pg.connect(database=\"NAaaS\",user=\"postgres\", password=\"1234\", host=\"127.0.0.1\", port=\"8008\")\n",
    "\t\n",
    "cursor = conn.cursor()\n",
    "\n",
    "cursor.execute(\"select * from news\")\n",
    "\n",
    "if cursor.fetchone():\n",
    "    print(\"ed\")"
   ]
  },
  {
   "cell_type": "code",
   "execution_count": 45,
   "metadata": {},
   "outputs": [
    {
     "ename": "SyntaxError",
     "evalue": "syntax error at or near \")\"\nLINE 22: ', '2022-03-19', 'SINDH', 'SINDH',);\n                                           ^\n",
     "output_type": "error",
     "traceback": [
      "\u001b[1;31m---------------------------------------------------------------------------\u001b[0m",
      "\u001b[1;31mSyntaxError\u001b[0m                               Traceback (most recent call last)",
      "\u001b[1;32m<ipython-input-45-d4cfebc044f5>\u001b[0m in \u001b[0;36m<module>\u001b[1;34m\u001b[0m\n\u001b[0;32m     12\u001b[0m \u001b[1;33m\u001b[0m\u001b[0m\n\u001b[0;32m     13\u001b[0m     \u001b[1;32mif\u001b[0m \u001b[0mprovince\u001b[0m\u001b[1;33m:\u001b[0m\u001b[1;33m\u001b[0m\u001b[1;33m\u001b[0m\u001b[0m\n\u001b[1;32m---> 14\u001b[1;33m         cursor.execute(\"Insert into NEWS(header, summary, details, focus_time, focus_location, province) VALUES( %s, %s, %s, %s, %s, %s,);\",\n\u001b[0m\u001b[0;32m     15\u001b[0m                        (data[2], data[3], data[4], data[1], province[0], province[0]))\n\u001b[0;32m     16\u001b[0m         \u001b[0mprint\u001b[0m\u001b[1;33m(\u001b[0m\u001b[0mconn\u001b[0m\u001b[1;33m.\u001b[0m\u001b[0mstatus\u001b[0m\u001b[1;33m)\u001b[0m\u001b[1;33m\u001b[0m\u001b[1;33m\u001b[0m\u001b[0m\n",
      "\u001b[1;31mSyntaxError\u001b[0m: syntax error at or near \")\"\nLINE 22: ', '2022-03-19', 'SINDH', 'SINDH',);\n                                           ^\n"
     ]
    }
   ],
   "source": [
    "import pandas as pd\n",
    "df = pd.read_csv(\"NAaaS/Data_Generator/ResultsCleaned.csv\")\n",
    "# df[\"Link\"] =\n",
    "del df[\"CreationTime\"]\n",
    "# df.head()\n",
    "\n",
    "for data in df.itertuples():\n",
    "    cursor = conn.cursor()\n",
    "    cursor.execute(\"Select name from province where name=%s\",\n",
    "                   (str(data[5]).upper(),))\n",
    "    province = cursor.fetchone()\n",
    "    \n",
    "    if province:\n",
    "        cursor.execute(\"Insert into NEWS(header, summary, details, focus_time, focus_location, province) VALUES( %s, %s, %s, %s, %s, %s);\",\n",
    "                       (data[2], data[3], data[4], data[1], province[0], province[0]))\n",
    "        print(conn.status)\n",
    "        break\n",
    "\n",
    "    else:\n",
    "        cursor.execute(\n",
    "            \"Select name, province from district where name=%s\", (str(data[5]).upper(),))\n",
    "        district = cursor.fetchone()\n",
    "        if district:\n",
    "            pass\n",
    "        else:\n",
    "            cursor.execute(\n",
    "                \"Select name, district from tehsil where name=%s\", (str(data[5]).upper(),))\n",
    "            tehsil = cursor.fetchone()\n",
    "            if tehsil:\n",
    "                cursor.execute(\n",
    "                    \"Select name, province from district where name=%s\", (tehsil[1],))\n",
    "                district = cursor.fetchone()\n",
    "                if district:\n",
    "                    pass\n",
    "                    # print(tehsil, district)\n"
   ]
  },
  {
   "cell_type": "code",
   "execution_count": 10,
   "metadata": {},
   "outputs": [
    {
     "data": {
      "text/html": [
       "<div>\n",
       "<style scoped>\n",
       "    .dataframe tbody tr th:only-of-type {\n",
       "        vertical-align: middle;\n",
       "    }\n",
       "\n",
       "    .dataframe tbody tr th {\n",
       "        vertical-align: top;\n",
       "    }\n",
       "\n",
       "    .dataframe thead th {\n",
       "        text-align: right;\n",
       "    }\n",
       "</style>\n",
       "<table border=\"1\" class=\"dataframe\">\n",
       "  <thead>\n",
       "    <tr style=\"text-align: right;\">\n",
       "      <th></th>\n",
       "      <th>focusTime</th>\n",
       "      <th>Header</th>\n",
       "      <th>Summary</th>\n",
       "      <th>Details</th>\n",
       "      <th>focusLocation</th>\n",
       "    </tr>\n",
       "  </thead>\n",
       "  <tbody>\n",
       "    <tr>\n",
       "      <th>0</th>\n",
       "      <td>2022-03-19</td>\n",
       "      <td>Acquittal of Qandeel Baloch’s brother challeng...</td>\n",
       "      <td>State appeal says the acquittal of the convict...</td>\n",
       "      <td>LAHORE: The Punjab prosecution department on S...</td>\n",
       "      <td>multan</td>\n",
       "    </tr>\n",
       "    <tr>\n",
       "      <th>1</th>\n",
       "      <td>2022-03-19</td>\n",
       "      <td>Ready to give dissidents ‘benefit of doubt’: PM</td>\n",
       "      <td>Calls on PTI workers to hold peaceful demonstr...</td>\n",
       "      <td>RAWALPINDI: Prime Minister Imran Khan on Satur...</td>\n",
       "      <td>rawalpindi</td>\n",
       "    </tr>\n",
       "    <tr>\n",
       "      <th>2</th>\n",
       "      <td>2022-03-19</td>\n",
       "      <td>SC asks both sides to help with no-trust matter</td>\n",
       "      <td>Reference under Article 63-A to be taken up al...</td>\n",
       "      <td>ISLAMABAD: The Sup­reme Court on Saturday soug...</td>\n",
       "      <td>sindh</td>\n",
       "    </tr>\n",
       "    <tr>\n",
       "      <th>3</th>\n",
       "      <td>2022-03-18</td>\n",
       "      <td>Ties with Islamabad through diplomatic channel...</td>\n",
       "      <td>When asked about Biden-Imran phone call, White...</td>\n",
       "      <td>\\n\\nJEN Psaki\\n\\n \\nWASHINGTON: The Biden admi...</td>\n",
       "      <td>islamabad</td>\n",
       "    </tr>\n",
       "    <tr>\n",
       "      <th>4</th>\n",
       "      <td>2022-03-21</td>\n",
       "      <td>Opposition ‘walks back’ threat to disrupt OIC ...</td>\n",
       "      <td>Leaders had warned of sit-in in NA if no-trust...</td>\n",
       "      <td>ISLAMABAD: Hours after threatening to take the...</td>\n",
       "      <td>mirza</td>\n",
       "    </tr>\n",
       "  </tbody>\n",
       "</table>\n",
       "</div>"
      ],
      "text/plain": [
       "    focusTime                                             Header  \\\n",
       "0  2022-03-19  Acquittal of Qandeel Baloch’s brother challeng...   \n",
       "1  2022-03-19    Ready to give dissidents ‘benefit of doubt’: PM   \n",
       "2  2022-03-19    SC asks both sides to help with no-trust matter   \n",
       "3  2022-03-18  Ties with Islamabad through diplomatic channel...   \n",
       "4  2022-03-21  Opposition ‘walks back’ threat to disrupt OIC ...   \n",
       "\n",
       "                                             Summary  \\\n",
       "0  State appeal says the acquittal of the convict...   \n",
       "1  Calls on PTI workers to hold peaceful demonstr...   \n",
       "2  Reference under Article 63-A to be taken up al...   \n",
       "3  When asked about Biden-Imran phone call, White...   \n",
       "4  Leaders had warned of sit-in in NA if no-trust...   \n",
       "\n",
       "                                             Details focusLocation  \n",
       "0  LAHORE: The Punjab prosecution department on S...        multan  \n",
       "1  RAWALPINDI: Prime Minister Imran Khan on Satur...    rawalpindi  \n",
       "2  ISLAMABAD: The Sup­reme Court on Saturday soug...         sindh  \n",
       "3  \\n\\nJEN Psaki\\n\\n \\nWASHINGTON: The Biden admi...     islamabad  \n",
       "4  ISLAMABAD: Hours after threatening to take the...         mirza  "
      ]
     },
     "execution_count": 10,
     "metadata": {},
     "output_type": "execute_result"
    }
   ],
   "source": [
    "# cursor.execute(\"Alter table NEWS add column summary TEXT\")\n",
    "\n",
    "df.head()"
   ]
  },
  {
   "cell_type": "code",
   "execution_count": null,
   "metadata": {},
   "outputs": [],
   "source": []
  }
 ],
 "metadata": {
  "kernelspec": {
   "display_name": "Python 3.8.8 ('DIP')",
   "language": "python",
   "name": "python3"
  },
  "language_info": {
   "codemirror_mode": {
    "name": "ipython",
    "version": 3
   },
   "file_extension": ".py",
   "mimetype": "text/x-python",
   "name": "python",
   "nbconvert_exporter": "python",
   "pygments_lexer": "ipython3",
   "version": "3.8.8"
  },
  "orig_nbformat": 4,
  "vscode": {
   "interpreter": {
    "hash": "7fee64b6d10f71b2ad32d2aedca1959ec8ccaf90c3c6db5aa37e1a96c8621a02"
   }
  }
 },
 "nbformat": 4,
 "nbformat_minor": 2
}
