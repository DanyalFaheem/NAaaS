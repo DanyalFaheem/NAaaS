{
 "cells": [
  {
   "cell_type": "code",
   "execution_count": 2,
   "metadata": {},
   "outputs": [],
   "source": [
    "import psycopg2 as pg\n",
    "\n",
    "conn = pg.connect(database=\"NAaaS\",user=\"postgres\", password=\"1234\", host=\"127.0.0.1\", port=\"8008\")\n",
    "\t\n",
    "cursor = conn.cursor()\n",
    "\n",
    "# cursor.execute(\"select * from news\")\n",
    "\n",
    "# print(cursor.fetchone())"
   ]
  },
  {
   "cell_type": "code",
   "execution_count": 4,
   "metadata": {},
   "outputs": [],
   "source": [
    "import pandas as pd\n",
    "df = pd.read_csv(\"../Data_Generator/Results.csv\")\n",
    "# df[\"Link\"] =\n",
    "del df[\"CreationDate\"]\n",
    "# print(df.columns)\n",
    "# df.head()\n",
    "conn = pg.connect(database=\"NAaaS\",user=\"postgres\", password=\"1234\", host=\"127.0.0.1\", port=\"8008\")\n",
    "cursor = conn.cursor()\n",
    "\n",
    "for data in df.itertuples():\n",
    "    # print(data[5])\n",
    "    # break\n",
    "    cursor.execute(\"Select name from province where name=%s\",\n",
    "                   (str(data[7]).upper(),))\n",
    "    province = cursor.fetchone()\n",
    "    \n",
    "    if province:\n",
    "        cursor.execute(\"Insert into NEWS(header, summary, details, focus_time, focus_location, link, category, province) VALUES( %s, %s, %s, %s, %s, %s, %s, %s);\",\n",
    "                       (data[2], data[3], data[4], data[1], province[0], data[5], data[6],  province[0]))\n",
    "        # print(conn.status)\n",
    "\n",
    "    else:\n",
    "        # break\n",
    "        cursor.execute(\n",
    "            \"Select name, province from district where name=%s\", (str(data[7]).upper(),))\n",
    "        district = cursor.fetchone()\n",
    "        if district:\n",
    "            cursor.execute(\"Insert into NEWS(header, summary, details, focus_time, focus_location, link, category, province, district) VALUES( %s, %s, %s, %s, %s, %s, %s, %s, %s);\",\n",
    "                       (data[2], data[3], data[4], data[1], district[0], data[5], data[6],  district[1], district[0]))\n",
    "        else:\n",
    "            cursor.execute(\n",
    "                \"Select name, district from tehsil where name=%s\", (str(data[7]).upper(),))\n",
    "            tehsil = cursor.fetchone()\n",
    "            if tehsil:\n",
    "                cursor.execute(\n",
    "                    \"Select name, province from district where name=%s\", (tehsil[1],))\n",
    "                district = cursor.fetchone()\n",
    "                if district:\n",
    "                    cursor.execute(\"Insert into NEWS(header, summary, details, focus_time, focus_location, link, category, province, district, tehsil) VALUES( %s, %s, %s, %s, %s, %s, %s, %s, %s, %s);\",\n",
    "                       (data[2], data[3], data[4], data[1], tehsil[0], data[5], data[6],  district[1], district[0], tehsil[0]))\n"
   ]
  },
  {
   "cell_type": "code",
   "execution_count": 5,
   "metadata": {},
   "outputs": [],
   "source": [
    "conn.commit()\n",
    "\n",
    "# cursor.execute(\"select tehsil from news\")\n",
    "# cursor.fetchall()"
   ]
  },
  {
   "cell_type": "code",
   "execution_count": null,
   "metadata": {},
   "outputs": [],
   "source": []
  }
 ],
 "metadata": {
  "kernelspec": {
   "display_name": "Python 3.8.8 ('DIP')",
   "language": "python",
   "name": "python3"
  },
  "language_info": {
   "codemirror_mode": {
    "name": "ipython",
    "version": 3
   },
   "file_extension": ".py",
   "mimetype": "text/x-python",
   "name": "python",
   "nbconvert_exporter": "python",
   "pygments_lexer": "ipython3",
   "version": "3.8.8"
  },
  "orig_nbformat": 4,
  "vscode": {
   "interpreter": {
    "hash": "7fee64b6d10f71b2ad32d2aedca1959ec8ccaf90c3c6db5aa37e1a96c8621a02"
   }
  }
 },
 "nbformat": 4,
 "nbformat_minor": 2
}
