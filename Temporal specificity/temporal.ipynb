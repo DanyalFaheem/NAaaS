{
 "cells": [
  {
   "cell_type": "code",
   "execution_count": 62,
   "metadata": {},
   "outputs": [],
   "source": [
    "# from dateparser import parse\n",
    "# from dateparser.search import search_dates\n",
    "# time = search_dates('I need a desk for tomorrow from 2pm for 2 hours')\n",
    "# print(time)\n",
    "# # time = parse('14 Ramadan')\n",
    "# # print(time)"
   ]
  },
  {
   "cell_type": "code",
   "execution_count": null,
   "metadata": {},
   "outputs": [],
   "source": [
    "# import pandas as pd\n",
    "# df = pd.read_csv(r\"C:\\Danyal\\Work\\FAST\\Semester 7\\Final Year Project - I\\Dummy Project\\NAaaS\\Data_Generator\\2022\\2022-07-16\\international.csv\")\n",
    "# df.head()"
   ]
  },
  {
   "cell_type": "code",
   "execution_count": null,
   "metadata": {},
   "outputs": [],
   "source": [
    "# import json\n",
    "# from sutime import SUTime\n",
    "# test_case = 'I need a desk'\n",
    "# sutime = SUTime(mark_time_ranges=True, include_range=True)\n",
    "# # print(json.dumps(sutime.parse(test_case), sort_keys=True, indent=4))\n",
    "# timeData = dict()\n",
    "\n",
    "# for data in df.itertuples():\n",
    "#     pass\n",
    "#     # print(data[4])\n",
    "#     # print(json.dumps(sutime.parse(data[2]), sort_keys=True))\n",
    "#     timeData[data[0]] = dict()\n",
    "#     timeData[data[0]][\"Header\"] = json.dumps(sutime.parse(data[2]), sort_keys=True)\n",
    "#     timeData[data[0]]['Summary'] = json.dumps(sutime.parse(data[3]), sort_keys=True)\n",
    "#     timeData[data[0]]['Details'] = json.dumps(sutime.parse(data[4]), sort_keys=True)\n",
    "\n"
   ]
  },
  {
   "cell_type": "code",
   "execution_count": 1,
   "metadata": {},
   "outputs": [
    {
     "data": {
      "text/html": [
       "<div>\n",
       "<style scoped>\n",
       "    .dataframe tbody tr th:only-of-type {\n",
       "        vertical-align: middle;\n",
       "    }\n",
       "\n",
       "    .dataframe tbody tr th {\n",
       "        vertical-align: top;\n",
       "    }\n",
       "\n",
       "    .dataframe thead th {\n",
       "        text-align: right;\n",
       "    }\n",
       "</style>\n",
       "<table border=\"1\" class=\"dataframe\">\n",
       "  <thead>\n",
       "    <tr style=\"text-align: right;\">\n",
       "      <th></th>\n",
       "      <th>Unnamed: 0</th>\n",
       "      <th>Header</th>\n",
       "      <th>Summary</th>\n",
       "      <th>Detail</th>\n",
       "      <th>Creation_Date</th>\n",
       "    </tr>\n",
       "  </thead>\n",
       "  <tbody>\n",
       "    <tr>\n",
       "      <th>0</th>\n",
       "      <td>0</td>\n",
       "      <td>Zelensky calls for fresh talks as Russia fires...</td>\n",
       "      <td>“This is the time to meet, to talk, time for r...</td>\n",
       "      <td>KYIV: Russia on Saturday admitted using advanc...</td>\n",
       "      <td>2022-03-20</td>\n",
       "    </tr>\n",
       "    <tr>\n",
       "      <th>1</th>\n",
       "      <td>1</td>\n",
       "      <td>Baptised Catholic women can head Vatican depts...</td>\n",
       "      <td>Most Vatican departments have been headed by m...</td>\n",
       "      <td>VATICAN CITY: Pope Francis on Saturday issued ...</td>\n",
       "      <td>2022-03-20</td>\n",
       "    </tr>\n",
       "    <tr>\n",
       "      <th>2</th>\n",
       "      <td>2</td>\n",
       "      <td>China reports first Covid deaths in over a year</td>\n",
       "      <td>China is maintaining a “dynamic clearance” app...</td>\n",
       "      <td>SHANGHAI: Mainland China reported its first Co...</td>\n",
       "      <td>2022-03-20</td>\n",
       "    </tr>\n",
       "    <tr>\n",
       "      <th>3</th>\n",
       "      <td>0</td>\n",
       "      <td>Acquittal of Qandeel Baloch’s brother challeng...</td>\n",
       "      <td>State appeal says the acquittal of the convict...</td>\n",
       "      <td>LAHORE: The Punjab prosecution department on S...</td>\n",
       "      <td>2022-03-20</td>\n",
       "    </tr>\n",
       "    <tr>\n",
       "      <th>4</th>\n",
       "      <td>1</td>\n",
       "      <td>Ready to give dissidents ‘benefit of doubt’: PM</td>\n",
       "      <td>Calls on PTI workers to hold peaceful demonstr...</td>\n",
       "      <td>RAWALPINDI: Prime Minister Imran Khan on Satur...</td>\n",
       "      <td>2022-03-20</td>\n",
       "    </tr>\n",
       "  </tbody>\n",
       "</table>\n",
       "</div>"
      ],
      "text/plain": [
       "  Unnamed: 0                                             Header  \\\n",
       "0          0  Zelensky calls for fresh talks as Russia fires...   \n",
       "1          1  Baptised Catholic women can head Vatican depts...   \n",
       "2          2    China reports first Covid deaths in over a year   \n",
       "3          0  Acquittal of Qandeel Baloch’s brother challeng...   \n",
       "4          1    Ready to give dissidents ‘benefit of doubt’: PM   \n",
       "\n",
       "                                             Summary  \\\n",
       "0  “This is the time to meet, to talk, time for r...   \n",
       "1  Most Vatican departments have been headed by m...   \n",
       "2  China is maintaining a “dynamic clearance” app...   \n",
       "3  State appeal says the acquittal of the convict...   \n",
       "4  Calls on PTI workers to hold peaceful demonstr...   \n",
       "\n",
       "                                              Detail Creation_Date  \n",
       "0  KYIV: Russia on Saturday admitted using advanc...    2022-03-20  \n",
       "1  VATICAN CITY: Pope Francis on Saturday issued ...    2022-03-20  \n",
       "2  SHANGHAI: Mainland China reported its first Co...    2022-03-20  \n",
       "3  LAHORE: The Punjab prosecution department on S...    2022-03-20  \n",
       "4  RAWALPINDI: Prime Minister Imran Khan on Satur...    2022-03-20  "
      ]
     },
     "execution_count": 1,
     "metadata": {},
     "output_type": "execute_result"
    }
   ],
   "source": [
    "# len(timeData)\n",
    "\n",
    "import glob\n",
    "import pandas as pd\n",
    "import pathlib\n",
    "li = []\n",
    "for filename in glob.iglob(r'..\\Data_Generator\\2022\\**\\*.csv', recursive=True):\n",
    "    path = pathlib.PurePath(filename)\n",
    "    # print(path.parent.name)\n",
    "    df = pd.read_csv(filename, index_col=None, header=0, dtype=\"string\")\n",
    "    df['Creation_Date'] = path.parent.name\n",
    "    li.append(df)\n",
    "df = pd.concat(li, axis=0, ignore_index=True)\n",
    "\n",
    "# for i in range(len(timeData)):\n",
    "#     print(timeData[i]['Header'])\n",
    "df.head()"
   ]
  },
  {
   "cell_type": "code",
   "execution_count": 2,
   "metadata": {},
   "outputs": [
    {
     "name": "stderr",
     "output_type": "stream",
     "text": [
      "WARNING:root:['gson-2.8.6.jar', 'slf4j-simple-1.7.30.jar', 'stanford-corenlp-4.0.0-models.jar', 'stanford-corenlp-4.0.0.jar']\n"
     ]
    },
    {
     "ename": "RuntimeError",
     "evalue": "Not all necessary Java dependencies have been downloaded!",
     "output_type": "error",
     "traceback": [
      "\u001b[1;31m---------------------------------------------------------------------------\u001b[0m",
      "\u001b[1;31mRuntimeError\u001b[0m                              Traceback (most recent call last)",
      "\u001b[1;32m<ipython-input-2-3c15a42c70ba>\u001b[0m in \u001b[0;36m<module>\u001b[1;34m\u001b[0m\n\u001b[0;32m     26\u001b[0m             \u001b[1;32mexcept\u001b[0m\u001b[1;33m:\u001b[0m\u001b[1;33m\u001b[0m\u001b[1;33m\u001b[0m\u001b[0m\n\u001b[0;32m     27\u001b[0m                 \u001b[1;32mpass\u001b[0m\u001b[1;33m\u001b[0m\u001b[1;33m\u001b[0m\u001b[0m\n\u001b[1;32m---> 28\u001b[1;33m \u001b[0msutime\u001b[0m \u001b[1;33m=\u001b[0m \u001b[0mSUTime\u001b[0m\u001b[1;33m(\u001b[0m\u001b[1;33m)\u001b[0m\u001b[1;33m\u001b[0m\u001b[1;33m\u001b[0m\u001b[0m\n\u001b[0m\u001b[0;32m     29\u001b[0m \u001b[1;31m# print(json.dumps(sutime.parse(test_case), sort_keys=True, indent=4))\u001b[0m\u001b[1;33m\u001b[0m\u001b[1;33m\u001b[0m\u001b[1;33m\u001b[0m\u001b[0m\n\u001b[0;32m     30\u001b[0m \u001b[0mtimeData\u001b[0m \u001b[1;33m=\u001b[0m \u001b[0mdict\u001b[0m\u001b[1;33m(\u001b[0m\u001b[1;33m)\u001b[0m\u001b[1;33m\u001b[0m\u001b[1;33m\u001b[0m\u001b[0m\n",
      "\u001b[1;32mc:\\Users\\USER\\.conda\\envs\\py38\\lib\\site-packages\\sutime\\sutime.py\u001b[0m in \u001b[0;36m__init__\u001b[1;34m(self, jars, jvm_started, mark_time_ranges, include_range, jvm_flags, language)\u001b[0m\n\u001b[0;32m     98\u001b[0m \u001b[1;33m\u001b[0m\u001b[0m\n\u001b[0;32m     99\u001b[0m         \u001b[1;32mif\u001b[0m \u001b[1;32mnot\u001b[0m \u001b[0mjvm_started\u001b[0m\u001b[1;33m:\u001b[0m\u001b[1;33m\u001b[0m\u001b[1;33m\u001b[0m\u001b[0m\n\u001b[1;32m--> 100\u001b[1;33m             \u001b[0mself\u001b[0m\u001b[1;33m.\u001b[0m\u001b[0m_classpath\u001b[0m \u001b[1;33m=\u001b[0m \u001b[0mself\u001b[0m\u001b[1;33m.\u001b[0m\u001b[0m_create_classpath\u001b[0m\u001b[1;33m(\u001b[0m\u001b[1;33m)\u001b[0m\u001b[1;33m\u001b[0m\u001b[1;33m\u001b[0m\u001b[0m\n\u001b[0m\u001b[0;32m    101\u001b[0m             \u001b[0mself\u001b[0m\u001b[1;33m.\u001b[0m\u001b[0m_start_jvm\u001b[0m\u001b[1;33m(\u001b[0m\u001b[0mjvm_flags\u001b[0m\u001b[1;33m)\u001b[0m\u001b[1;33m\u001b[0m\u001b[1;33m\u001b[0m\u001b[0m\n\u001b[0;32m    102\u001b[0m \u001b[1;33m\u001b[0m\u001b[0m\n",
      "\u001b[1;32mc:\\Users\\USER\\.conda\\envs\\py38\\lib\\site-packages\\sutime\\sutime.py\u001b[0m in \u001b[0;36m_create_classpath\u001b[1;34m(self)\u001b[0m\n\u001b[0;32m    204\u001b[0m                 \u001b[0mjar\u001b[0m \u001b[1;32mfor\u001b[0m \u001b[0mjar\u001b[0m \u001b[1;32min\u001b[0m \u001b[0mself\u001b[0m\u001b[1;33m.\u001b[0m\u001b[0m_required_jars\u001b[0m \u001b[1;32mif\u001b[0m \u001b[0mjar\u001b[0m \u001b[1;32mnot\u001b[0m \u001b[1;32min\u001b[0m \u001b[0mjar_file_names\u001b[0m\u001b[1;33m\u001b[0m\u001b[1;33m\u001b[0m\u001b[0m\n\u001b[0;32m    205\u001b[0m             ])\n\u001b[1;32m--> 206\u001b[1;33m             raise RuntimeError(\n\u001b[0m\u001b[0;32m    207\u001b[0m                 \u001b[1;34m'Not all necessary Java dependencies have been downloaded!'\u001b[0m\u001b[1;33m,\u001b[0m\u001b[1;33m\u001b[0m\u001b[1;33m\u001b[0m\u001b[0m\n\u001b[0;32m    208\u001b[0m             )\n",
      "\u001b[1;31mRuntimeError\u001b[0m: Not all necessary Java dependencies have been downloaded!"
     ]
    }
   ],
   "source": [
    "import json\n",
    "import readline\n",
    "from sutime import SUTime\n",
    "from datetime import datetime\n",
    "\n",
    "def checkDate(parsedData, referenceDate):\n",
    "    flag = False\n",
    "    for tag in parsedData:\n",
    "        if tag['type'] == 'DATE':\n",
    "            # if datetime.strptime(tag['value'], '%Y-%m-%d') <= datetime.strptime(referenceDate, '%Y-%m-%d'):\n",
    "            try:\n",
    "                if datetime.strptime(tag['value'], '%Y-%m-%d') <= datetime.strptime(referenceDate, '%Y-%m-%d'):\n",
    "                    flag = True\n",
    "            except:\n",
    "                pass\n",
    "    return flag\n",
    "\n",
    "def extractDate(parsedData, referenceDate):\n",
    "    focusTime = ''\n",
    "    for tag in parsedData:\n",
    "        if tag['type'] == 'DATE':\n",
    "            try:\n",
    "                if datetime.strptime(tag['value'], '%Y-%m-%d') <= datetime.strptime(referenceDate, '%Y-%m-%d'):\n",
    "                    focusTime = tag['value']\n",
    "                    return focusTime\n",
    "            except:\n",
    "                pass   \n",
    "sutime = SUTime()\n",
    "# print(json.dumps(sutime.parse(test_case), sort_keys=True, indent=4))\n",
    "timeData = dict()\n",
    "df_elements = df.sample(n=2)\n",
    "# print(str)\n",
    "count = 0\n",
    "for data in df_elements.itertuples():\n",
    "    headerParse = sutime.parse(data[2], reference_date=data[5])\n",
    "    checkDate(headerParse, data[5])\n",
    "    if not headerParse or not checkDate(headerParse, data[5]):\n",
    "        summaryParse = sutime.parse(data[3], reference_date=data[5])\n",
    "        checkDate(summaryParse, data[5])\n",
    "        if not summaryParse or not checkDate(summaryParse, data[5]):\n",
    "            details = data[4]\n",
    "            lines = details.split('\\n')\n",
    "            del lines[-2]\n",
    "            details = '\\n'.join(lines)\n",
    "            detailsParse = sutime.parse(details, reference_date=data[5])\n",
    "            checkDate(detailsParse, data[5])\n",
    "            if not detailsParse:\n",
    "                count += 1\n",
    "            else:\n",
    "                timeData[data[0]] = dict()\n",
    "                timeData[data[0]][\"Creation_Date\"] = data[5]\n",
    "                timeData[data[0]][\"focusTime\"] = extractDate(detailsParse, data[5])\n",
    "                timeData[data[0]]['Details'] = dict()\n",
    "                timeData[data[0]]['Details'][\"Text\"] = data[4]\n",
    "                timeData[data[0]]['Details'][\"Tags\"] = detailsParse\n",
    "        else:\n",
    "            timeData[data[0]] = dict()\n",
    "            timeData[data[0]][\"Creation_Date\"] = data[5]\n",
    "            timeData[data[0]][\"focusTime\"] = extractDate(summaryParse, data[5])\n",
    "            timeData[data[0]]['Summary'] = dict()\n",
    "            timeData[data[0]]['Summary'][\"Text\"] = data[3]\n",
    "            timeData[data[0]]['Summary'][\"Tags\"] = summaryParse\n",
    "    else:\n",
    "        timeData[data[0]] = dict()\n",
    "        timeData[data[0]][\"Creation_Date\"] = data[5]\n",
    "        timeData[data[0]][\"focusTime\"] = extractDate(headerParse, data[5])\n",
    "        timeData[data[0]][\"Header\"] = dict()\n",
    "        timeData[data[0]][\"Header\"][\"Text\"] = data[2]\n",
    "        timeData[data[0]][\"Header\"][\"Tags\"] = headerParse\n",
    "    if timeData[data[0]][\"focusTime\"] == 'null':\n",
    "        timeData[data[0]][\"focusTime\"] = data[5]\n",
    "print (\"Number of news with no time tag at all: \", count)\n",
    "# # lines = df_elements['Detail'].head()\n",
    "# with open('details.txt', 'w') as f:\n",
    "#     f.writelines(lines)\n",
    "# print(lines)\n",
    "print(json.dumps(timeData, indent=4))"
   ]
  },
  {
   "cell_type": "code",
   "execution_count": 29,
   "metadata": {},
   "outputs": [
    {
     "ename": "AttributeError",
     "evalue": "module 'datetime' has no attribute 'strptime'",
     "output_type": "error",
     "traceback": [
      "\u001b[1;31m---------------------------------------------------------------------------\u001b[0m",
      "\u001b[1;31mAttributeError\u001b[0m                            Traceback (most recent call last)",
      "\u001b[1;32m<ipython-input-29-0a3f1e46f2e4>\u001b[0m in \u001b[0;36m<module>\u001b[1;34m\u001b[0m\n\u001b[0;32m      5\u001b[0m \u001b[1;33m\u001b[0m\u001b[0m\n\u001b[0;32m      6\u001b[0m \u001b[1;32mimport\u001b[0m \u001b[0mdatetime\u001b[0m\u001b[1;33m\u001b[0m\u001b[1;33m\u001b[0m\u001b[0m\n\u001b[1;32m----> 7\u001b[1;33m \u001b[0mdatetime\u001b[0m\u001b[1;33m.\u001b[0m\u001b[0mstrptime\u001b[0m\u001b[1;33m(\u001b[0m\u001b[1;34m'2022-08-01'\u001b[0m\u001b[1;33m,\u001b[0m \u001b[1;34m'%Y-%m-%d'\u001b[0m\u001b[1;33m)\u001b[0m \u001b[1;33m>\u001b[0m \u001b[0mdatetime\u001b[0m\u001b[1;33m.\u001b[0m\u001b[0mstrptime\u001b[0m\u001b[1;33m(\u001b[0m\u001b[1;34m'2022-08-02'\u001b[0m\u001b[1;33m,\u001b[0m \u001b[1;34m'%Y-%m-%d'\u001b[0m\u001b[1;33m)\u001b[0m\u001b[1;33m\u001b[0m\u001b[1;33m\u001b[0m\u001b[0m\n\u001b[0m",
      "\u001b[1;31mAttributeError\u001b[0m: module 'datetime' has no attribute 'strptime'"
     ]
    }
   ],
   "source": [
    "# print(len(timeData[0]['Header']))\n",
    "# for i in range(len(timeData)):\n",
    "#     if timeData[i]['Header']:\n",
    "#         print(timeData[i]['Header'])\n",
    "\n",
    "import datetime\n",
    "datetime.strptime('2022-08-01', '%Y-%m-%d') > datetime.strptime('2022-08-02', '%Y-%m-%d')"
   ]
  },
  {
   "cell_type": "code",
   "execution_count": null,
   "metadata": {},
   "outputs": [],
   "source": []
  },
  {
   "cell_type": "code",
   "execution_count": null,
   "metadata": {},
   "outputs": [],
   "source": []
  }
 ],
 "metadata": {
  "kernelspec": {
   "display_name": "Python 3.8.8 ('py38')",
   "language": "python",
   "name": "python3"
  },
  "language_info": {
   "codemirror_mode": {
    "name": "ipython",
    "version": 3
   },
   "file_extension": ".py",
   "mimetype": "text/x-python",
   "name": "python",
   "nbconvert_exporter": "python",
   "pygments_lexer": "ipython3",
   "version": "3.8.8"
  },
  "orig_nbformat": 4,
  "vscode": {
   "interpreter": {
    "hash": "588ac8bcb5724ba040aa60c8084195f4d5c6e5d53aa95b6cf09b599d5e574efe"
   }
  }
 },
 "nbformat": 4,
 "nbformat_minor": 2
}
